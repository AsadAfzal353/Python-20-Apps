{
 "cells": [
  {
   "cell_type": "code",
   "execution_count": 1,
   "metadata": {},
   "outputs": [
    {
     "name": "stdout",
     "output_type": "stream",
     "text": [
      "hello\n"
     ]
    }
   ],
   "source": [
    "user_prompt = \"Enter a todo: \"\n",
    "text = input(user_prompt)\n",
    "print(text)"
   ]
  },
  {
   "cell_type": "code",
   "execution_count": 2,
   "metadata": {},
   "outputs": [
    {
     "name": "stdout",
     "output_type": "stream",
     "text": [
      "['Clean', 'Meet', 'Throw']\n"
     ]
    }
   ],
   "source": [
    "user_prompt = \"Enter a todo: \"\n",
    "todo1 = input(user_prompt)\n",
    "todo2 = input(user_prompt)\n",
    "todo3 = input(user_prompt)\n",
    "\n",
    "todos = [todo1, todo2, todo3]\n",
    "print(todos)\n",
    "print(type(todos)) # list\n",
    "type(todo1) # str"
   ]
  },
  {
   "cell_type": "code",
   "execution_count": 4,
   "metadata": {},
   "outputs": [
    {
     "name": "stdout",
     "output_type": "stream",
     "text": [
      "<class 'list'>\n"
     ]
    }
   ],
   "source": [
    "user_prompt = \"Enter a todo: \" # SyntaxError if double qoutes removed\n",
    "# Single qoutes work as well, if single qoute inside, need to you double qoute\n",
    "# One assignment in one line\n",
    "todo1 = input(user_prompt) # SyntaxError if one of the parenthesis is removed\n",
    "todo2 = input(user_prompt)\n",
    "todo3 = input(user_prompt)\n",
    "\n",
    "todos = [todo1, todo2, todo3]\n",
    "print(todos)\n",
    "print(type(todos)) # list\n",
    "type(todo1) # str"
   ]
  },
  {
   "cell_type": "code",
   "execution_count": 9,
   "metadata": {},
   "outputs": [
    {
     "name": "stdout",
     "output_type": "stream",
     "text": [
      "Title length is  11\n"
     ]
    }
   ],
   "source": [
    "title = input(\"Enter title: \")\n",
    "print(\"Title length is\", len(title))"
   ]
  },
  {
   "cell_type": "code",
   "execution_count": null,
   "metadata": {},
   "outputs": [],
   "source": []
  }
 ],
 "metadata": {
  "kernelspec": {
   "display_name": "base",
   "language": "python",
   "name": "python3"
  },
  "language_info": {
   "codemirror_mode": {
    "name": "ipython",
    "version": 3
   },
   "file_extension": ".py",
   "mimetype": "text/x-python",
   "name": "python",
   "nbconvert_exporter": "python",
   "pygments_lexer": "ipython3",
   "version": "3.8.3"
  },
  "orig_nbformat": 4
 },
 "nbformat": 4,
 "nbformat_minor": 2
}
