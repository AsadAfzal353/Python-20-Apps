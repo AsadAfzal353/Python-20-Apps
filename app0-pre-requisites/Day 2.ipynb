{
 "cells": [
  {
   "cell_type": "code",
   "execution_count": 1,
   "metadata": {},
   "outputs": [
    {
     "name": "stdout",
     "output_type": "stream",
     "text": [
      "The task help has been added in your todo list\n",
      "The task hell has been added in your todo list\n",
      "The task oy has been added in your todo list\n",
      "The task oy has been added in your todo list\n",
      "The task he has been added in your todo list\n"
     ]
    }
   ],
   "source": [
    "user_prompt = \"Enter a todo:\"\n",
    "count = 0\n",
    "\n",
    "while True:\n",
    "    todo = input(user_prompt)\n",
    "    print(f\"The task '{todo}' has been added in your todo list\")\n",
    "    if count == 5: break\n",
    "    count += 1"
   ]
  },
  {
   "cell_type": "code",
   "execution_count": 8,
   "metadata": {},
   "outputs": [
    {
     "name": "stdout",
     "output_type": "stream",
     "text": [
      "The task 'Hi' has been added in your todo list\n",
      "The task 'Ki' has been added in your todo list\n",
      "The task 'Li' has been added in your todo list\n",
      "The task 'Mi' has been added in your todo list\n",
      "The task 'Fi' has been added in your todo list\n"
     ]
    },
    {
     "data": {
      "text/plain": [
       "['Hi', 'Ki', 'Li', 'Mi', 'Fi']"
      ]
     },
     "execution_count": 8,
     "metadata": {},
     "output_type": "execute_result"
    }
   ],
   "source": [
    "# str.title() vs. str.capitalize()\n",
    "user_prompt = \"Enter a todo:\"\n",
    "count = 1\n",
    "todos = []\n",
    "while True:\n",
    "    todo = input(user_prompt)\n",
    "    todo = todo.capitalize()\n",
    "    print(f\"The task '{todo}' has been added in your todo list\")\n",
    "    # todo.append() -> yields AttributeError: 'str' object has no attribute 'append'\n",
    "    # todo.capitalize() is a method vs. capitalize(todo) is a function\n",
    "    todos.append(todo)\n",
    "    if count == 5: break\n",
    "    count += 1\n",
    "\n",
    "todos"
   ]
  },
  {
   "cell_type": "code",
   "execution_count": 7,
   "metadata": {},
   "outputs": [
    {
     "data": {
      "text/plain": [
       "['Hye', 'Bye', 'Nye', 'Fye', 'Kye']"
      ]
     },
     "execution_count": 7,
     "metadata": {},
     "output_type": "execute_result"
    }
   ],
   "source": [
    "todos"
   ]
  },
  {
   "cell_type": "code",
   "execution_count": 9,
   "metadata": {},
   "outputs": [],
   "source": [
    "password = input(\"Enter the password: \")\n",
    "while password != \"Neun\":\n",
    "    password = input(\"Incorrect Password, try again:\")"
   ]
  },
  {
   "cell_type": "code",
   "execution_count": 1,
   "metadata": {},
   "outputs": [],
   "source": [
    "name = input(\"Enter your name: \")\n",
    "name = name.capitalize()\n",
    "print(\"Your name is:\", name)"
   ]
  },
  {
   "cell_type": "code",
   "execution_count": null,
   "metadata": {},
   "outputs": [
    {
     "ename": "",
     "evalue": "",
     "output_type": "error",
     "traceback": [
      "\u001b[1;31mCannot execute code, session has been disposed. Please try restarting the Kernel."
     ]
    },
    {
     "ename": "",
     "evalue": "",
     "output_type": "error",
     "traceback": [
      "\u001b[1;31mThe Kernel crashed while executing code in the the current cell or a previous cell. Please review the code in the cell(s) to identify a possible cause of the failure. Click <a href='https://aka.ms/vscodeJupyterKernelCrash'>here</a> for more info. View Jupyter <a href='command:jupyter.viewOutput'>log</a> for further details."
     ]
    },
    {
     "ename": "",
     "evalue": "",
     "output_type": "error",
     "traceback": [
      "\u001b[1;31mThe Kernel crashed while executing code in the the current cell or a previous cell. Please review the code in the cell(s) to identify a possible cause of the failure. Click <a href='https://aka.ms/vscodeJupyterKernelCrash'>here</a> for more info. View Jupyter <a href='command:jupyter.viewOutput'>log</a> for further details."
     ]
    }
   ],
   "source": [
    "while True:\n",
    "    name = input(\"What is your name?\")\n",
    "    print(name.capitalize())"
   ]
  },
  {
   "cell_type": "code",
   "execution_count": null,
   "metadata": {},
   "outputs": [],
   "source": []
  }
 ],
 "metadata": {
  "kernelspec": {
   "display_name": "base",
   "language": "python",
   "name": "python3"
  },
  "language_info": {
   "codemirror_mode": {
    "name": "ipython",
    "version": 3
   },
   "file_extension": ".py",
   "mimetype": "text/x-python",
   "name": "python",
   "nbconvert_exporter": "python",
   "pygments_lexer": "ipython3",
   "version": "3.8.3"
  },
  "orig_nbformat": 4
 },
 "nbformat": 4,
 "nbformat_minor": 2
}
