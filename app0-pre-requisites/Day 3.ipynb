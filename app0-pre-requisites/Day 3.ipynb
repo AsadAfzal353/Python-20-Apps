{
 "cells": [
  {
   "cell_type": "code",
   "execution_count": 4,
   "metadata": {},
   "outputs": [
    {
     "name": "stdout",
     "output_type": "stream",
     "text": [
      "Bye!\n"
     ]
    }
   ],
   "source": [
    "todos = []\n",
    "\n",
    "while True:\n",
    "    user_action = input(\"Type add, show, or exit: \")\n",
    "\n",
    "    if 'add' == user_action:\n",
    "        todo = input(\"Enter a todo: \")\n",
    "        todos.append(todo)\n",
    "    elif 'show' == user_action:\n",
    "        for item in todos: print(item)\n",
    "    elif 'exit' == user_action:\n",
    "        break\n",
    "\n",
    "print(\"Bye!\")"
   ]
  },
  {
   "cell_type": "code",
   "execution_count": 5,
   "metadata": {},
   "outputs": [
    {
     "name": "stdout",
     "output_type": "stream",
     "text": [
      "Throw Trash\n",
      "Bye!\n"
     ]
    }
   ],
   "source": [
    "todos = []\n",
    "\n",
    "while True:\n",
    "    user_action = input(\"Type add, show, or exit: \").strip()\n",
    "\n",
    "    if 'add' == user_action:\n",
    "        todo = input(\"Enter a todo: \")\n",
    "        todos.append(todo)\n",
    "    elif 'show' == user_action:\n",
    "        for item in todos: print(item.title())\n",
    "    elif 'exit' == user_action:\n",
    "        break\n",
    "\n",
    "print(\"Bye!\")"
   ]
  },
  {
   "cell_type": "code",
   "execution_count": null,
   "metadata": {},
   "outputs": [],
   "source": [
    "__build_class__"
   ]
  }
 ],
 "metadata": {
  "kernelspec": {
   "display_name": "base",
   "language": "python",
   "name": "python3"
  },
  "language_info": {
   "codemirror_mode": {
    "name": "ipython",
    "version": 3
   },
   "file_extension": ".py",
   "mimetype": "text/x-python",
   "name": "python",
   "nbconvert_exporter": "python",
   "pygments_lexer": "ipython3",
   "version": "3.8.3"
  },
  "orig_nbformat": 4
 },
 "nbformat": 4,
 "nbformat_minor": 2
}
