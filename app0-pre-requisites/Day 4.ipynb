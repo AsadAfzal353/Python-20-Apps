{
 "cells": [
  {
   "cell_type": "code",
   "execution_count": 1,
   "metadata": {},
   "outputs": [
    {
     "name": "stdout",
     "output_type": "stream",
     "text": [
      "Bye!\n"
     ]
    }
   ],
   "source": [
    "todos = []\n",
    "\n",
    "while True:\n",
    "    user_action = input(\"Type add, show, edit or exit: \").strip()\n",
    "\n",
    "    if user_action == \"add\":\n",
    "        todo = input(\"Enter a todo: \")\n",
    "        todos.append(todo)\n",
    "    elif user_action == \"show\":\n",
    "        for item in todos:\n",
    "            print(item) \n",
    "    elif user_action == \"edit\":\n",
    "        number = int(input(\"Number of the todo to edit: \"))\n",
    "        new_todo = input(\"Enter new todo: \")\n",
    "        todos[number-1] = new_todo \n",
    "    elif user_action == \"exit\":\n",
    "        break\n",
    "\n",
    "print(\"Bye!\")\n"
   ]
  },
  {
   "cell_type": "code",
   "execution_count": 4,
   "metadata": {},
   "outputs": [],
   "source": [
    "# .replace provides a new string rather then mutating original\n",
    "\n"
   ]
  },
  {
   "cell_type": "code",
   "execution_count": null,
   "metadata": {},
   "outputs": [],
   "source": []
  }
 ],
 "metadata": {
  "kernelspec": {
   "display_name": "base",
   "language": "python",
   "name": "python3"
  },
  "language_info": {
   "codemirror_mode": {
    "name": "ipython",
    "version": 3
   },
   "file_extension": ".py",
   "mimetype": "text/x-python",
   "name": "python",
   "nbconvert_exporter": "python",
   "pygments_lexer": "ipython3",
   "version": "3.11.0"
  },
  "orig_nbformat": 4
 },
 "nbformat": 4,
 "nbformat_minor": 2
}
