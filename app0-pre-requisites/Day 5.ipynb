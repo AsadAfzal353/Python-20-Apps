{
 "cells": [
  {
   "cell_type": "code",
   "execution_count": 1,
   "metadata": {},
   "outputs": [
    {
     "name": "stdout",
     "output_type": "stream",
     "text": [
      "0-do\n",
      "1-clean\n",
      "2-paste\n",
      "Bye!\n"
     ]
    }
   ],
   "source": [
    "todos = []\n",
    "\n",
    "while True:\n",
    "    user_action = input(\"Type add, show, edit, complete or exit: \").strip()\n",
    "\n",
    "    if user_action == \"add\":\n",
    "        todo = input(\"Enter a todo: \")\n",
    "        todos.append(todo)\n",
    "    elif user_action == \"show\":\n",
    "        for index, item in enumerate(todos):\n",
    "            print(f\"{index+1}-{item}\") \n",
    "    elif user_action == \"edit\":\n",
    "        number = int(input(\"Number of the todo to edit: \"))\n",
    "        new_todo = input(\"Enter new todo: \")\n",
    "        todos[number-1] = new_todo \n",
    "    elif user_action == \"complete\":\n",
    "        number = int(input(\"Number of the todo to complete: \"))\n",
    "        todos.pop(number-1)\n",
    "    elif user_action == \"exit\":\n",
    "        break\n",
    "\n",
    "print(\"Bye!\")\n"
   ]
  },
  {
   "cell_type": "code",
   "execution_count": 2,
   "metadata": {},
   "outputs": [
    {
     "data": {
      "text/plain": [
       "[(0, 'a'), (1, 'b'), (2, 'c')]"
      ]
     },
     "execution_count": 2,
     "metadata": {},
     "output_type": "execute_result"
    }
   ],
   "source": [
    "list(enumerate([\"a\", \"b\", \"c\"]))"
   ]
  },
  {
   "cell_type": "code",
   "execution_count": 4,
   "metadata": {},
   "outputs": [
    {
     "data": {
      "text/plain": [
       "[0, 1, 2, 3, 4, 5]"
      ]
     },
     "execution_count": 4,
     "metadata": {},
     "output_type": "execute_result"
    }
   ],
   "source": [
    "list(range(6))"
   ]
  },
  {
   "cell_type": "code",
   "execution_count": 7,
   "metadata": {},
   "outputs": [],
   "source": [
    "mylist = [\"d\", \"a\", \"z\"]\n",
    "mylist.sort(reverse=True)"
   ]
  },
  {
   "cell_type": "code",
   "execution_count": 8,
   "metadata": {},
   "outputs": [
    {
     "data": {
      "text/plain": [
       "['z', 'd', 'a']"
      ]
     },
     "execution_count": 8,
     "metadata": {},
     "output_type": "execute_result"
    }
   ],
   "source": [
    "mylist"
   ]
  },
  {
   "cell_type": "code",
   "execution_count": null,
   "metadata": {},
   "outputs": [],
   "source": []
  }
 ],
 "metadata": {
  "kernelspec": {
   "display_name": "base",
   "language": "python",
   "name": "python3"
  },
  "language_info": {
   "codemirror_mode": {
    "name": "ipython",
    "version": 3
   },
   "file_extension": ".py",
   "mimetype": "text/x-python",
   "name": "python",
   "nbconvert_exporter": "python",
   "pygments_lexer": "ipython3",
   "version": "3.8.3"
  },
  "orig_nbformat": 4
 },
 "nbformat": 4,
 "nbformat_minor": 2
}
