{
 "cells": [
  {
   "cell_type": "code",
   "execution_count": 15,
   "metadata": {},
   "outputs": [
    {
     "name": "stdout",
     "output_type": "stream",
     "text": [
      "1-hel\n",
      "\n",
      "2-jel\n",
      "\n",
      "3-bel\n",
      "\n",
      "Bye!\n"
     ]
    }
   ],
   "source": [
    "while True:\n",
    "    user_action = input(\"Type add, show, edit, complete or exit: \").strip()\n",
    "\n",
    "    if user_action == \"add\":\n",
    "        todo = input(\"Enter a todo: \") + \"\\n\"\n",
    "\n",
    "        file = open('todos.txt', 'r')\n",
    "        todos = file.readlines()\n",
    "        file.close()\n",
    "\n",
    "        todos.append(todo)\n",
    "\n",
    "        file = open('todos.txt', 'w')\n",
    "        file.writelines(todos)\n",
    "        file.close()\n",
    "\n",
    "    elif user_action == \"show\":\n",
    "        file = open('todos.txt', 'r')\n",
    "        todos = file.readlines()\n",
    "        file.close()\n",
    "        \n",
    "        for index, item in enumerate(todos):\n",
    "            print(f\"{index+1}-{item}\") \n",
    "    elif user_action == \"edit\":\n",
    "        number = int(input(\"Number of the todo to edit: \"))\n",
    "        new_todo = input(\"Enter new todo: \")\n",
    "        todos[number-1] = new_todo \n",
    "    elif user_action == \"complete\":\n",
    "        number = int(input(\"Number of the todo to complete: \"))\n",
    "        todos.pop(number-1)\n",
    "    elif user_action == \"exit\":\n",
    "        break\n",
    "\n",
    "print(\"Bye!\")\n"
   ]
  },
  {
   "cell_type": "code",
   "execution_count": 16,
   "metadata": {},
   "outputs": [],
   "source": [
    "# using Refactor feature\n",
    "# change path and use the open via r\"\""
   ]
  },
  {
   "cell_type": "code",
   "execution_count": 1,
   "metadata": {},
   "outputs": [],
   "source": [
    "# using open(f\"../files/{filename}\", 'w')"
   ]
  },
  {
   "cell_type": "code",
   "execution_count": 7,
   "metadata": {},
   "outputs": [
    {
     "name": "stdout",
     "output_type": "stream",
     "text": [
      "['John Smith\\n', 'Sen Lakmi\\n', 'Sono Octonot']\n"
     ]
    }
   ],
   "source": [
    "new_mem = \"\\n\" + input(\"Add a new member: \")\n",
    "\n",
    "file = open('members.txt', 'r')\n",
    "members = file.readlines()\n",
    "file.close()\n",
    "\n",
    "members.append(new_mem)\n",
    "\n",
    "file = open('members.txt', 'w')\n",
    "file.writelines(members)\n",
    "file.close()"
   ]
  },
  {
   "cell_type": "code",
   "execution_count": null,
   "metadata": {},
   "outputs": [],
   "source": []
  }
 ],
 "metadata": {
  "kernelspec": {
   "display_name": "base",
   "language": "python",
   "name": "python3"
  },
  "language_info": {
   "codemirror_mode": {
    "name": "ipython",
    "version": 3
   },
   "file_extension": ".py",
   "mimetype": "text/x-python",
   "name": "python",
   "nbconvert_exporter": "python",
   "pygments_lexer": "ipython3",
   "version": "3.8.3"
  },
  "orig_nbformat": 4
 },
 "nbformat": 4,
 "nbformat_minor": 2
}
